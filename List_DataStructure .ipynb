{
 "cells": [
  {
   "cell_type": "raw",
   "metadata": {},
   "source": [
    "\"LIST DATA STRUCTURE\"\n",
    "> Collection of any type of data \n",
    "> Represented by []\n",
    "> Mutable data structure , which means it can be modified "
   ]
  },
  {
   "cell_type": "code",
   "execution_count": 17,
   "metadata": {},
   "outputs": [],
   "source": [
    "data = [1,'python',45,'hi',12,True]"
   ]
  },
  {
   "cell_type": "code",
   "execution_count": 18,
   "metadata": {},
   "outputs": [
    {
     "data": {
      "text/plain": [
       "list"
      ]
     },
     "execution_count": 18,
     "metadata": {},
     "output_type": "execute_result"
    }
   ],
   "source": [
    "type(data)"
   ]
  },
  {
   "cell_type": "code",
   "execution_count": 19,
   "metadata": {},
   "outputs": [
    {
     "name": "stdout",
     "output_type": "stream",
     "text": [
      "[1, 'python', 45, 'hi', 12, True, 43]\n"
     ]
    }
   ],
   "source": [
    "#Adding new data \n",
    "data.append(43)\n",
    "print(data)"
   ]
  },
  {
   "cell_type": "code",
   "execution_count": 20,
   "metadata": {},
   "outputs": [
    {
     "name": "stdout",
     "output_type": "stream",
     "text": [
      "[1, 'python', 45, 'hi', 12, True, 43, [23, 32]]\n"
     ]
    }
   ],
   "source": [
    "data.append([23,32])\n",
    "print(data)"
   ]
  },
  {
   "cell_type": "code",
   "execution_count": 21,
   "metadata": {},
   "outputs": [
    {
     "name": "stdout",
     "output_type": "stream",
     "text": [
      "[1, 'python', 45, 'hi', 12, True, 43, [23, 32], 66, 55]\n"
     ]
    }
   ],
   "source": [
    "data.extend([66,55])\n",
    "print(data)"
   ]
  },
  {
   "cell_type": "code",
   "execution_count": 22,
   "metadata": {},
   "outputs": [
    {
     "name": "stdout",
     "output_type": "stream",
     "text": [
      "[1, 'python', 45, 28, 'hi', 12, True, 43, [23, 32], 66, 55]\n"
     ]
    }
   ],
   "source": [
    "#Inserting at a particular index\n",
    "data.insert(3,28)\n",
    "print(data)"
   ]
  },
  {
   "cell_type": "code",
   "execution_count": 23,
   "metadata": {},
   "outputs": [
    {
     "name": "stdout",
     "output_type": "stream",
     "text": [
      "[1, 'python', 45, 28, 'hi', True, 43, [23, 32], 66, 55]\n"
     ]
    }
   ],
   "source": [
    "#Deleting element from a particular index\n",
    "data.pop(5)\n",
    "print(data)"
   ]
  },
  {
   "cell_type": "code",
   "execution_count": 24,
   "metadata": {},
   "outputs": [
    {
     "name": "stdout",
     "output_type": "stream",
     "text": [
      "[1, 'python', 45, 28, True, 43, [23, 32], 66, 55]\n"
     ]
    }
   ],
   "source": [
    "#To remove particular element in list\n",
    "data.remove('hi')\n",
    "print(data)"
   ]
  },
  {
   "cell_type": "code",
   "execution_count": 25,
   "metadata": {},
   "outputs": [
    {
     "name": "stdout",
     "output_type": "stream",
     "text": [
      "7\n"
     ]
    }
   ],
   "source": [
    "#To find out index of data\n",
    "t = data.index(66)\n",
    "print(t)"
   ]
  },
  {
   "cell_type": "code",
   "execution_count": 26,
   "metadata": {},
   "outputs": [
    {
     "name": "stdout",
     "output_type": "stream",
     "text": [
      "[1, 'python', 45, 28, True]\n"
     ]
    }
   ],
   "source": [
    "#slicing data \n",
    "print(data[0:5])"
   ]
  },
  {
   "cell_type": "code",
   "execution_count": 27,
   "metadata": {},
   "outputs": [
    {
     "name": "stdout",
     "output_type": "stream",
     "text": [
      "['Data', 'python', 45, 28, True, 43, [23, 32], 66, 55]\n"
     ]
    }
   ],
   "source": [
    "#changing element value \n",
    "data[0] = 'Data'\n",
    "print(data)"
   ]
  },
  {
   "cell_type": "code",
   "execution_count": 29,
   "metadata": {},
   "outputs": [
    {
     "name": "stdout",
     "output_type": "stream",
     "text": [
      "9\n"
     ]
    }
   ],
   "source": [
    "#length of list \n",
    "print(len(data))"
   ]
  },
  {
   "cell_type": "code",
   "execution_count": 30,
   "metadata": {},
   "outputs": [
    {
     "name": "stdout",
     "output_type": "stream",
     "text": [
      "Data\n",
      "python\n",
      "45\n",
      "28\n",
      "True\n",
      "43\n",
      "[23, 32]\n",
      "66\n",
      "55\n"
     ]
    }
   ],
   "source": [
    "#Loop through a list\n",
    "for d in data:\n",
    "    print(d)"
   ]
  },
  {
   "cell_type": "code",
   "execution_count": 31,
   "metadata": {},
   "outputs": [
    {
     "name": "stdout",
     "output_type": "stream",
     "text": [
      "Yes\n"
     ]
    }
   ],
   "source": [
    "#to check if item exists\n",
    "if 66 in data:\n",
    "    print('Yes')"
   ]
  },
  {
   "cell_type": "code",
   "execution_count": 32,
   "metadata": {},
   "outputs": [
    {
     "name": "stdout",
     "output_type": "stream",
     "text": [
      "['Data', 'python', 45, 28, True, 43, [23, 32], 66, 55]\n"
     ]
    }
   ],
   "source": [
    "#Copy a list\n",
    "a  = data\n",
    "print(a)"
   ]
  },
  {
   "cell_type": "code",
   "execution_count": 33,
   "metadata": {},
   "outputs": [
    {
     "name": "stdout",
     "output_type": "stream",
     "text": [
      "['Data', 'python', 45, 28, True, 43, [23, 32], 66, 55]\n"
     ]
    }
   ],
   "source": [
    "b = a.copy()\n",
    "print(b)"
   ]
  },
  {
   "cell_type": "code",
   "execution_count": 34,
   "metadata": {},
   "outputs": [
    {
     "name": "stdout",
     "output_type": "stream",
     "text": [
      "[6, 'ttt', 8, 'hhh', 5]\n"
     ]
    }
   ],
   "source": [
    "#Join 2 lists\n",
    "l1 = [6,'ttt',8]\n",
    "l2 = ['hhh',5]\n",
    "x = l1+l2\n",
    "print(x)"
   ]
  },
  {
   "cell_type": "code",
   "execution_count": 35,
   "metadata": {},
   "outputs": [
    {
     "name": "stdout",
     "output_type": "stream",
     "text": [
      "[6, 'ttt', 8, 'hhh', 5]\n"
     ]
    }
   ],
   "source": [
    "#Appending one list to another \n",
    "for i in l2:\n",
    "    l1.append(i)\n",
    "print(l1)    "
   ]
  },
  {
   "cell_type": "code",
   "execution_count": 36,
   "metadata": {},
   "outputs": [
    {
     "name": "stdout",
     "output_type": "stream",
     "text": [
      "[]\n"
     ]
    }
   ],
   "source": [
    "#Remove all items of list\n",
    "data.clear()\n",
    "print(data)"
   ]
  },
  {
   "cell_type": "code",
   "execution_count": 38,
   "metadata": {},
   "outputs": [
    {
     "name": "stdout",
     "output_type": "stream",
     "text": [
      "[1, 2, 7, 22, 33, 66, 99]\n"
     ]
    }
   ],
   "source": [
    "#Sorting \n",
    "l = [2,7,1,66,22,99,33]\n",
    "l.sort()\n",
    "print(l)"
   ]
  },
  {
   "cell_type": "code",
   "execution_count": 39,
   "metadata": {},
   "outputs": [
    {
     "name": "stdout",
     "output_type": "stream",
     "text": [
      "[77, 61, 4, 44, 'jj']\n"
     ]
    }
   ],
   "source": [
    "#Reversing a list\n",
    "r = ['jj',44,4,61,77]\n",
    "r.reverse()\n",
    "print(r)"
   ]
  },
  {
   "cell_type": "code",
   "execution_count": 40,
   "metadata": {},
   "outputs": [
    {
     "name": "stdout",
     "output_type": "stream",
     "text": [
      "1\n"
     ]
    }
   ],
   "source": [
    "#no. of elements with specified value\n",
    "print(r.count(4))"
   ]
  },
  {
   "cell_type": "code",
   "execution_count": null,
   "metadata": {},
   "outputs": [],
   "source": []
  }
 ],
 "metadata": {
  "kernelspec": {
   "display_name": "Python 3",
   "language": "python",
   "name": "python3"
  },
  "language_info": {
   "codemirror_mode": {
    "name": "ipython",
    "version": 3
   },
   "file_extension": ".py",
   "mimetype": "text/x-python",
   "name": "python",
   "nbconvert_exporter": "python",
   "pygments_lexer": "ipython3",
   "version": "3.8.3"
  }
 },
 "nbformat": 4,
 "nbformat_minor": 4
}
